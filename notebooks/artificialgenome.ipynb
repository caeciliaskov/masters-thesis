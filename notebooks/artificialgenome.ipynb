{
 "cells": [
  {
   "cell_type": "markdown",
   "id": "83f4e881",
   "metadata": {},
   "source": [
    "### Import packages"
   ]
  },
  {
   "cell_type": "code",
   "execution_count": 1,
   "id": "965e31b4",
   "metadata": {},
   "outputs": [],
   "source": [
    "import pandas as pd\n",
    "import numpy as np\n",
    "\n",
    "\n",
    "\n",
    "#%load_ext rpy2.ipython"
   ]
  },
  {
   "cell_type": "markdown",
   "id": "99bff376",
   "metadata": {},
   "source": [
    "### Sample 3 individuals from each population:"
   ]
  },
  {
   "cell_type": "code",
   "execution_count": 2,
   "id": "36ba847c",
   "metadata": {},
   "outputs": [],
   "source": [
    "dataset = 'HGDP'\n",
    "metadata = pd.read_table(\"~/GenerationInterval/people/moi/files/metadata.txt\")\n",
    "metadata = metadata[metadata['dat'] == dataset]"
   ]
  },
  {
   "cell_type": "code",
   "execution_count": 3,
   "id": "64ddc5bc",
   "metadata": {},
   "outputs": [
    {
     "name": "stdout",
     "output_type": "stream",
     "text": [
      "['HGDP01335', 'HGDP01329', 'HGDP01332']\n"
     ]
    }
   ],
   "source": [
    "pop = 'She'\n",
    "\n",
    "data = metadata[metadata['pop'] == pop]\n",
    "samples = data.sample(n=3, random_state=10)\n",
    "pop_ind = (samples['ind'].tolist())\n",
    "\n",
    "print(pop_ind)"
   ]
  },
  {
   "cell_type": "markdown",
   "id": "800b845e",
   "metadata": {},
   "source": [
    "### Get Neanderthal fragment data for each population"
   ]
  },
  {
   "cell_type": "code",
   "execution_count": 4,
   "id": "fbafbfed",
   "metadata": {},
   "outputs": [],
   "source": [
    "frames = []\n",
    "for ind in pop_ind:\n",
    "    human_id = ind\n",
    "    ind_bed_in = '../../moi/sandbox/dec/{dataset}/{human_id}.new.txt'.format(dataset = dataset, human_id = human_id)\n",
    "    ind_file = pd.read_csv(ind_bed_in, sep = '\\t')\n",
    "    ind_file[\"end\"] += 1000\n",
    "    frames.append(ind_file)\n",
    "    pop_df = pd.concat(frames)\n",
    "    conditions = [\n",
    "    (pop_df['ancestry'] == 'Vindija') | (pop_df['ancestry'] == 'AmbigNean') | (pop_df['ancestry'] == 'Altai') | (pop_df['ancestry'] == 'Chagyrskaya'),\n",
    "    (pop_df['ancestry'] == 'Denisova'),\n",
    "    (pop_df['ancestry'] == 'nonDAVC'),\n",
    "    (pop_df['ancestry'] == 'Ambiguous')\n",
    "    ]\n",
    "    values = ['Neanderthal', 'Denisova', 'NonDAVC', 'Ambiguous']\n",
    "    pop_df['group'] = np.select(conditions, values)\n",
    "    nean_df = pop_df.loc[pop_df['group'] == 'Neanderthal']\n",
    "    nean_df.to_csv(\"{pop}.txt\".format(pop = pop), index = False, header = True, sep = '\\t')\n"
   ]
  },
  {
   "cell_type": "markdown",
   "id": "01b3a309",
   "metadata": {},
   "source": [
    "### Make artificial genomes for each population"
   ]
  },
  {
   "cell_type": "markdown",
   "id": "4b92e2b9",
   "metadata": {},
   "source": [
    "##### Goal: Pick a random fragment and add it to the artificial genome. Then find all overlapping fragments in df and remove them from df. Then pick a new fragment and add to ag. Find overlaps again and remove them, etc."
   ]
  },
  {
   "cell_type": "code",
   "execution_count": 8,
   "id": "b5b70159",
   "metadata": {},
   "outputs": [],
   "source": [
    "%%bash\n",
    "\n",
    "# Create new empty file for the artificial genome\n",
    "\n",
    "touch ag.txt\n"
   ]
  },
  {
   "cell_type": "code",
   "execution_count": 9,
   "id": "b3fc591f",
   "metadata": {},
   "outputs": [],
   "source": [
    "%%bash\n",
    "\n",
    "# Pick a random fragment and add to the artificial genome\n",
    "\n",
    "shuf -n 1 Burusho.txt >> ag.txt\n"
   ]
  },
  {
   "cell_type": "code",
   "execution_count": 14,
   "id": "1b331732",
   "metadata": {},
   "outputs": [
    {
     "name": "stdout",
     "output_type": "stream",
     "text": [
      "chrom\tstart\tend\tlength\tmean_prob\tsnps\tadmixpopvariants\tAltai\tChagyrskaya\tDenisova\tVindija\tind\tdataset\tancestry\tgroup\n",
      "chr10\t1704000\t1717000\t14000\t0.79346\t7\t4\t0\t3\t0\t4\tHGDP00359\tHGDP\tVindija\tNeanderthal\n",
      "chr10\t1865000\t2038000\t174000\t0.9039\t71\t29\t25\t28\t2\t28\tHGDP00359\tHGDP\tAmbigNean\tNeanderthal\n",
      "chr10\t3749000\t3824000\t76000\t0.98651\t56\t33\t32\t31\t3\t32\tHGDP00359\tHGDP\tAmbigNean\tNeanderthal\n",
      "chr10\t5564000\t5618000\t55000\t0.95123\t27\t13\t9\t13\t0\t11\tHGDP00359\tHGDP\tChagyrskaya\tNeanderthal\n"
     ]
    }
   ],
   "source": [
    "%%bash \n",
    "\n",
    "head -n 5 Burusho.txt"
   ]
  },
  {
   "cell_type": "code",
   "execution_count": 18,
   "id": "f2ffe670",
   "metadata": {},
   "outputs": [
    {
     "name": "stdout",
     "output_type": "stream",
     "text": [
      "chr10\t1704000\t1717000\t14000\t0.79346\t7\t4\t0\t3\t0\t4\tHGDP00359\tHGDP\tVindija\tNeanderthal\n",
      "chrom\tstart\tend\tlength\tmean_prob\tsnps\tadmixpopvariants\tAltai\tChagyrskaya\tDenisova\tVindija\tind\tdataset\tancestry\tgroup\n",
      "chr10\t1865000\t2038000\t174000\t0.9039\t71\t29\t25\t28\t2\t28\tHGDP00359\tHGDP\tAmbigNean\tNeanderthal\n",
      "chr10\t5564000\t5618000\t55000\t0.95123\t27\t13\t9\t13\t0\t11\tHGDP00359\tHGDP\tChagyrskaya\tNeanderthal\n",
      "chr10\t3749000\t3824000\t76000\t0.98651\t56\t33\t32\t31\t3\t32\tHGDP00359\tHGDP\tAmbigNean\tNeanderthal\n"
     ]
    }
   ],
   "source": [
    "%%bash\n",
    "\n",
    "head -n 5 Burusho.txt | shuf"
   ]
  },
  {
   "cell_type": "code",
   "execution_count": 60,
   "id": "73e5b8a4",
   "metadata": {},
   "outputs": [
    {
     "name": "stdout",
     "output_type": "stream",
     "text": [
      "chr10\t1704000\t1717000\tHGDP00359\n",
      "chr10\t1865000\t2038000\tHGDP00359\n",
      "chr10\t3749000\t3824000\tHGDP00359\n",
      "chr10\t5564000\t5618000\tHGDP00359\n",
      "chr10\t5661000\t5678000\tHGDP00359\n"
     ]
    }
   ],
   "source": [
    "%%bash\n",
    "\n",
    "awk '{if(NR > 1){print $1\"\\t\"$2\"\\t\"$3\"\\t\"$12}}' Burusho.txt \\\n",
    "| head -n 5 "
   ]
  },
  {
   "cell_type": "code",
   "execution_count": 61,
   "id": "ba0709e1",
   "metadata": {},
   "outputs": [
    {
     "name": "stdout",
     "output_type": "stream",
     "text": [
      "I'm doing line chr10 1704000 1717000 HGDP00359\n",
      "chr10\t1704000\t1717000\tHGDP00359\n",
      "I'm doing line chr10 1865000 2038000 HGDP00359\n",
      "I'm doing line chr10 3749000 3824000 HGDP00359\n",
      "I'm doing line chr10 5564000 5618000 HGDP00359\n",
      "chr10\t5564000\t5618000\tHGDP00359\n",
      "I'm doing line chr10 5661000 5678000 HGDP00359\n",
      "chr10\t5661000\t5678000\tHGDP00359\n"
     ]
    }
   ],
   "source": [
    "%%bash\n",
    "\n",
    "awk '{if(NR > 1){print $1\"\\t\"$2\"\\t\"$3\"\\t\"$12}}' Burusho.txt \\\n",
    "| head -n 5 \\\n",
    "| while read line \n",
    "    do \n",
    "      echo \"I'm doing line\" ${line}\n",
    "      bedtools intersect -v -a <(echo \"\" | awk '{print \"'\"${line}\"'\"}') -b <(awk '{if(NR > 1){print $1\"\\t\"$2\"\\t\"$3\"\\t\"$12}}' Han.txt) \n",
    "    done\n",
    "\n",
    "#<(echo \"\" | awk '{print \"chr10\\t1704000\\t1717000\\tmoi\"}')"
   ]
  },
  {
   "cell_type": "code",
   "execution_count": 70,
   "id": "6e6f7de6",
   "metadata": {},
   "outputs": [],
   "source": [
    "%%bash\n",
    "\n",
    "cat art_gen.txt "
   ]
  },
  {
   "cell_type": "code",
   "execution_count": null,
   "id": "7341a169",
   "metadata": {},
   "outputs": [],
   "source": []
  },
  {
   "cell_type": "code",
   "execution_count": 74,
   "id": "6ee1fef7",
   "metadata": {},
   "outputs": [
    {
     "name": "stdout",
     "output_type": "stream",
     "text": [
      "\n",
      "chr10\t1865000\t2038000\tHGDP00359\n",
      "chr10\t3749000\t3824000\tHGDP00359\n",
      "chr10\t5564000\t5618000\tHGDP00359\n",
      "chr10\t5661000\t5678000\tHGDP00359\n",
      "chr10\t1704000\t1717000\tHGDP00359\n",
      "chr9\t126532000\t126647000\tHGDP00341\n",
      "chr7\t152720000\t152751000\tHGDP00359\n",
      "chr10\t90272000\t90318000\tHGDP00359\n",
      "chr14\t79964000\t80041000\tHGDP00341\n",
      "chr15\t86930000\t86971000\tHGDP00359\n",
      "chr3\t123546000\t123663000\tHGDP00371\n",
      "chr12\t104699000\t104711000\tHGDP00341\n",
      "chr6\t68786000\t68851000\tHGDP00359\n",
      "chr16\t55429000\t55461000\tHGDP00341\n",
      "chr2\t159823000\t160009000\tHGDP00371\n"
     ]
    }
   ],
   "source": [
    "%%bash\n",
    "\n",
    "pop=\"Burusho\" \n",
    "\n",
    "rm -f ${pop}_art_gen.txt\n",
    "touch ${pop}_art_gen.txt\n",
    "\n",
    "awk '{if(NR > 1){print $1\"\\t\"$2\"\\t\"$3\"\\t\"$12}}' ${pop}.txt \\\n",
    "| shuf \\\n",
    "| head -n 5 \\\n",
    "| while read line \n",
    "    do \n",
    "      bedtools intersect -v -a <(echo \"\" | awk '{print \"'\"${line}\"'\"}') -b ${pop}_art_gen.txt > ${pop}_art_gen_temp.txt\n",
    "      cat ${pop}_art_gen_temp.txt >> ${pop}_art_gen.txt\n",
    "      rm ${pop}_art_gen_temp.txt\n",
    "      \n",
    "    done\n",
    "\n",
    "echo \"\"\n",
    "cat ${pop}_art_gen.txt\n",
    "#<(echo \"\" | awk '{print \"chr10\\t1704000\\t1717000\\tmoi\"}')"
   ]
  },
  {
   "cell_type": "code",
   "execution_count": 30,
   "id": "3fed70a9",
   "metadata": {
    "scrolled": true
   },
   "outputs": [],
   "source": [
    "%%bash\n",
    "\n",
    "# Find all fragments that don't overlap with any fragments in the artificial genome and save them in a new file.\n",
    "\n",
    "touch tmp.txt\n",
    "\n",
    "bedtools intersect -a Burusho.txt -b ag.txt -v > tmp.txt\n"
   ]
  },
  {
   "cell_type": "code",
   "execution_count": 11,
   "id": "d91e120e",
   "metadata": {},
   "outputs": [],
   "source": [
    "%%bash\n",
    "\n",
    "# Pick a new random fragment from the non-overlapping fragments and add it to the artificial genome\n",
    "\n",
    "shuf -n 1 tmp.txt >> ag.txt"
   ]
  },
  {
   "cell_type": "code",
   "execution_count": 12,
   "id": "c4338501",
   "metadata": {},
   "outputs": [
    {
     "name": "stdout",
     "output_type": "stream",
     "text": [
      "::::::::::::::\n",
      "ag.txt\n",
      "::::::::::::::\n",
      "chr3\t23692000\t23721000\t30000\t0.84888\t9\t1\t1\t1\t0\t1\tHGDP00359\tHGDP\tAmbigNean\tNeanderthal\n",
      "chr1\t233957000\t234067000\t111000\t0.87418\t36\t6\t6\t6\t3\t6\tHGDP00371\tHGDP\tAmbigNean\tNeanderthal\n"
     ]
    }
   ],
   "source": [
    "%%bash\n",
    "\n",
    "more ag.txt"
   ]
  },
  {
   "cell_type": "code",
   "execution_count": null,
   "id": "1436fb7c",
   "metadata": {},
   "outputs": [],
   "source": []
  },
  {
   "cell_type": "markdown",
   "id": "d252ba1c",
   "metadata": {},
   "source": [
    "##### Goal: Pick a random fragment and add it to the artificial genome. Then pick another random fragment, check if it overlaps with any fragment already in the artificial genome and if not, then add that fragment etc."
   ]
  },
  {
   "cell_type": "code",
   "execution_count": 37,
   "id": "1b8e6681",
   "metadata": {
    "scrolled": false
   },
   "outputs": [
    {
     "name": "stdout",
     "output_type": "stream",
     "text": [
      "      chrom     start       end  length  mean_prob  snps  admixpopvariants  \\\n",
      "1620   chr1  36397000  36560000  164000    0.96128    47                17   \n",
      "307   chr21  34173000  34219000   47000    0.94734    19                 9   \n",
      "554    chr7    527000    549000   23000    0.74189     8                 3   \n",
      "478    chr5   2741000   2804000   64000    0.96867    29                13   \n",
      "1162   chr5   2753000   2803000   51000    0.96436    26                16   \n",
      "1601  chr19  33534000  33556000   23000    0.90102    12                10   \n",
      "487    chr5  36049000  36375000  327000    0.97764   124                55   \n",
      "476    chr5    174000    574000  401000    0.91008   142                65   \n",
      "1240   chr7  36166000  36308000  143000    0.94663    45                18   \n",
      "1107   chr4  33665000  34345000  681000    0.94820   174                69   \n",
      "1106   chr4  33199000  33585000  387000    0.98642   146                68   \n",
      "701   chr11  35604000  35657000   54000    0.94786    16                 2   \n",
      "1596  chr19    600000    653000   54000    0.85122    17                 3   \n",
      "864   chr17    428000    713000  286000    0.87866    59                25   \n",
      "664   chr10  36219000  36362000  144000    0.98796    57                30   \n",
      "1452  chr12   2094000   2117000   24000    0.92002    14                 9   \n",
      "821   chr15  36289000  36310000   22000    0.88657    14                 4   \n",
      "555    chr7    610000    672000   63000    0.94956    23                10   \n",
      "1706  chr22  34019000  34145000  127000    0.89161    46                16   \n",
      "221   chr19  33513000  33556000   44000    0.75542    16                10   \n",
      "1348  chr10    696000    754000   59000    0.83297    47                16   \n",
      "215   chr19    603000    610000    8000    0.56899     5                 1   \n",
      "1182   chr6   2737000   2806000   70000    0.91644    29                 8   \n",
      "2024   chr9  33750000  34353000  604000    0.96251   147                57   \n",
      "76    chr12   2068000   2117000   50000    0.95640    20                14   \n",
      "1852   chr5    410000    534000  125000    0.91308    68                36   \n",
      "893   chr19  34252000  34571000  320000    0.91733    62                32   \n",
      "\n",
      "      Altai  Chagyrskaya  Denisova  Vindija        ind dataset     ancestry  \\\n",
      "1620     10           17         3       14  HGDP00371    HGDP  Chagyrskaya   \n",
      "307       5            7         0        9  HGDP00359    HGDP      Vindija   \n",
      "554       3            2         0        1  HGDP00359    HGDP        Altai   \n",
      "478       7           13         0        9  HGDP00359    HGDP  Chagyrskaya   \n",
      "1162      9           16         1       13  HGDP00341    HGDP  Chagyrskaya   \n",
      "1601      6           10         7        6  HGDP00371    HGDP  Chagyrskaya   \n",
      "487      49           49        29       53  HGDP00359    HGDP      Vindija   \n",
      "476      14           52         2       39  HGDP00359    HGDP  Chagyrskaya   \n",
      "1240     15           16         5       18  HGDP00341    HGDP      Vindija   \n",
      "1107     48           25         5       64  HGDP00341    HGDP      Vindija   \n",
      "1106     46           45         6       67  HGDP00341    HGDP      Vindija   \n",
      "701       1            1         0        2  HGDP00341    HGDP      Vindija   \n",
      "1596      3            3         0        3  HGDP00371    HGDP    AmbigNean   \n",
      "864       7           22         3       25  HGDP00341    HGDP      Vindija   \n",
      "664      26           27         0       29  HGDP00341    HGDP      Vindija   \n",
      "1452      8            9         3        9  HGDP00371    HGDP    AmbigNean   \n",
      "821       4            2         0        2  HGDP00341    HGDP        Altai   \n",
      "555       9           10         2        9  HGDP00359    HGDP  Chagyrskaya   \n",
      "1706      7           14         1       16  HGDP00371    HGDP      Vindija   \n",
      "221       6           10         7        6  HGDP00359    HGDP  Chagyrskaya   \n",
      "1348     16           13         0       16  HGDP00371    HGDP    AmbigNean   \n",
      "215       0            0         0        1  HGDP00359    HGDP      Vindija   \n",
      "1182      4            7         1        8  HGDP00341    HGDP      Vindija   \n",
      "2024     38           57         0       57  HGDP00371    HGDP    AmbigNean   \n",
      "76       10           13         3       14  HGDP00359    HGDP      Vindija   \n",
      "1852      2           29         1       25  HGDP00371    HGDP  Chagyrskaya   \n",
      "893      27           31         2       30  HGDP00341    HGDP  Chagyrskaya   \n",
      "\n",
      "            group  \n",
      "1620  Neanderthal  \n",
      "307   Neanderthal  \n",
      "554   Neanderthal  \n",
      "478   Neanderthal  \n",
      "1162  Neanderthal  \n",
      "1601  Neanderthal  \n",
      "487   Neanderthal  \n",
      "476   Neanderthal  \n",
      "1240  Neanderthal  \n",
      "1107  Neanderthal  \n",
      "1106  Neanderthal  \n",
      "701   Neanderthal  \n",
      "1596  Neanderthal  \n",
      "864   Neanderthal  \n",
      "664   Neanderthal  \n",
      "1452  Neanderthal  \n",
      "821   Neanderthal  \n",
      "555   Neanderthal  \n",
      "1706  Neanderthal  \n",
      "221   Neanderthal  \n",
      "1348  Neanderthal  \n",
      "215   Neanderthal  \n",
      "1182  Neanderthal  \n",
      "2024  Neanderthal  \n",
      "76    Neanderthal  \n",
      "1852  Neanderthal  \n",
      "893   Neanderthal  \n"
     ]
    }
   ],
   "source": [
    "ag = pd.DataFrame()\n",
    "df = pd.read_csv(\"Burusho.txt\", sep = '\\t')\n",
    "first_frag = df.sample(n = 1, axis = 0, random_state = 4)\n",
    "ag = pd.concat([ag,first_frag])\n",
    "df = df.drop(first_frag.index.tolist(), axis = 0)\n",
    "\n",
    "#next_frag = df.sample(n = 1, axis = 0, random_state = 4)\n",
    "#for i in df.values:\n",
    "#    for j in ag.values:\n",
    "#        if df.values[i][1] \n",
    "#\n",
    "\n",
    "while len(df) != 0:\n",
    "    next_frag = df.sample(n = 1, axis = 0, random_state = 4)\n",
    "    for row in range(len(ag)):\n",
    "        if next_frag.iloc[0]['start'] > ag.iloc[row]['start'] & next_frag.iloc[0]['end'] < ag.iloc[row]['end']:\n",
    "            df = df.drop(next_frag.index.tolist(), axis = 0)\n",
    "            break\n",
    "        if next_frag.iloc[0]['start'] < ag.iloc[row]['start'] & next_frag.iloc[0]['end'] > ag.iloc[row]['start']: \n",
    "            df = df.drop(next_frag.index.tolist(), axis = 0)\n",
    "            break\n",
    "        if next_frag.iloc[0]['start'] < ag.iloc[row]['end'] & next_frag.iloc[0]['end'] > ag.iloc[row]['end']: \n",
    "            df = df.drop(next_frag.index.tolist(), axis = 0)\n",
    "            break\n",
    "        else:\n",
    "            ag = pd.concat([ag,next_frag])\n",
    "            df = df.drop(next_frag.index.tolist(), axis = 0)\n",
    "            break\n",
    "\n"
   ]
  },
  {
   "cell_type": "code",
   "execution_count": null,
   "id": "2dc3e4ec",
   "metadata": {},
   "outputs": [],
   "source": []
  }
 ],
 "metadata": {
  "kernelspec": {
   "display_name": "Python 3 (ipykernel)",
   "language": "python",
   "name": "python3"
  },
  "language_info": {
   "codemirror_mode": {
    "name": "ipython",
    "version": 3
   },
   "file_extension": ".py",
   "mimetype": "text/x-python",
   "name": "python",
   "nbconvert_exporter": "python",
   "pygments_lexer": "ipython3",
   "version": "3.10.8"
  }
 },
 "nbformat": 4,
 "nbformat_minor": 5
}
